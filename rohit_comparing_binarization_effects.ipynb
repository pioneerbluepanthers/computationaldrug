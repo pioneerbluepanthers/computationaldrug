{
  "nbformat": 4,
  "nbformat_minor": 0,
  "metadata": {
    "colab": {
      "provenance": [],
      "collapsed_sections": [
        "kc0LDKDrDzdb",
        "f7dbbo0D8eBA",
        "PH12pzYB8hfb"
      ],
      "include_colab_link": true
    },
    "kernelspec": {
      "name": "python3",
      "display_name": "Python 3"
    },
    "language_info": {
      "name": "python"
    }
  },
  "cells": [
    {
      "cell_type": "markdown",
      "metadata": {
        "id": "view-in-github",
        "colab_type": "text"
      },
      "source": [
        "<a href=\"https://colab.research.google.com/github/pioneerbluepanthers/computationaldrug/blob/main/rohit_comparing_binarization_effects.ipynb\" target=\"_parent\"><img src=\"https://colab.research.google.com/assets/colab-badge.svg\" alt=\"Open In Colab\"/></a>"
      ]
    },
    {
      "cell_type": "markdown",
      "source": [
        "# Imports"
      ],
      "metadata": {
        "id": "kc0LDKDrDzdb"
      }
    },
    {
      "cell_type": "code",
      "source": [
        "! pip install shap"
      ],
      "metadata": {
        "id": "3ctLAy_9zYOP"
      },
      "execution_count": null,
      "outputs": []
    },
    {
      "cell_type": "code",
      "source": [
        "# data science\n",
        "import pandas as pd\n",
        "import numpy as np\n",
        "from sklearn.impute import KNNImputer\n",
        "from sklearn.experimental import enable_iterative_imputer\n",
        "from sklearn.impute import SimpleImputer, IterativeImputer\n",
        "from sklearn.model_selection import train_test_split\n",
        "from sklearn.preprocessing import LabelEncoder,normalize\n",
        "from sklearn.metrics import classification_report\n",
        "import keras\n",
        "\n",
        "# figure generation\n",
        "import matplotlib.pyplot as plt\n",
        "\n",
        "# machine learning\n",
        "from sklearn.metrics import confusion_matrix\n",
        "from sklearn.metrics import roc_auc_score\n",
        "from sklearn.metrics import f1_score\n",
        "from sklearn.metrics import matthews_corrcoef\n",
        "from sklearn.metrics import roc_curve\n",
        "from sklearn.ensemble import RandomForestClassifier\n",
        "from keras.models import Sequential, load_model\n",
        "from keras.layers import Dense, Flatten\n",
        "from keras.optimizers import SGD, Adam\n",
        "from keras.callbacks import ModelCheckpoint, EarlyStopping\n",
        "import xgboost as xgb\n",
        "import shap"
      ],
      "metadata": {
        "id": "3ltsOAfqD2Pt"
      },
      "execution_count": null,
      "outputs": []
    },
    {
      "cell_type": "code",
      "source": [
        "from google.colab import drive\n",
        "drive.mount('/content/drive')"
      ],
      "metadata": {
        "colab": {
          "base_uri": "https://localhost:8080/"
        },
        "id": "6W2aovK12ywM",
        "outputId": "4c51b67e-c031-42e1-f566-6ef43d9eff32"
      },
      "execution_count": null,
      "outputs": [
        {
          "output_type": "stream",
          "name": "stdout",
          "text": [
            "Mounted at /content/drive\n"
          ]
        }
      ]
    },
    {
      "cell_type": "code",
      "source": [
        "base_df = pd.read_csv(\"/content/drive/MyDrive/Rohit Work/social_data.csv\", index_col=0)"
      ],
      "metadata": {
        "id": "Zc5cg_sK52hf"
      },
      "execution_count": null,
      "outputs": []
    },
    {
      "cell_type": "code",
      "source": [
        "base_df.head()"
      ],
      "metadata": {
        "id": "sgPvF1-b-z34"
      },
      "execution_count": null,
      "outputs": []
    },
    {
      "cell_type": "code",
      "source": [
        "base_df.sample"
      ],
      "metadata": {
        "id": "5QDPrd0_byZo"
      },
      "execution_count": null,
      "outputs": []
    },
    {
      "cell_type": "markdown",
      "source": [
        "# Data processing"
      ],
      "metadata": {
        "id": "f7dbbo0D8eBA"
      }
    },
    {
      "cell_type": "code",
      "source": [
        "# KNN imputation\n",
        "\n",
        "def ComorbidImputation(df):\n",
        "  #df_col_f=['patient_id']\n",
        "  df_col = list(df.columns)\n",
        "  df_index = df.index\n",
        "\n",
        "  # initialize KNN imputer with 2 neighbors\n",
        "  imputer=KNNImputer(n_neighbors=2)\n",
        "  # make a copy of input dataframe\n",
        "  temp_df = df.copy()\n",
        "  # change the index to numerical values\n",
        "  temp_df.reset_index(inplace=True)\n",
        "  temp_df.drop(columns=temp_df.columns[0], inplace=True)\n",
        "  #Compute KNN fit transform to impute the data\n",
        "  new_temp_df = pd.DataFrame(imputer.fit_transform(temp_df.reset_index()))\n",
        "  #drop the extra first column\n",
        "  new_temp_df.drop(columns=new_temp_df.columns[0], inplace=True)\n",
        "  #set the column and index values\n",
        "  new_temp_df.columns=df_col\n",
        "  new_temp_df.index = df_index\n",
        "  imputed_df=new_temp_df.copy()\n",
        "  #sort the dataframe columns in alphbetical order\n",
        "  imputed_df=imputed_df.reindex(sorted(imputed_df.columns), axis=1)\n",
        "\n",
        "  return imputed_df"
      ],
      "metadata": {
        "id": "nyNqgIiWT6m1"
      },
      "execution_count": null,
      "outputs": []
    },
    {
      "cell_type": "code",
      "source": [
        "# Simple Imputer\n",
        "\n",
        "def ComorbidImputationSimple(df):\n",
        "   df_col = list(df.columns)\n",
        "   imputer = SimpleImputer(missing_values=np.nan, strategy='most_frequent')\n",
        "   imputed_df = pd.DataFrame(imputer.fit_transform(df))\n",
        "   imputed_df.columns=df_col\n",
        "   imputed_df.index=df.index\n",
        "   #print(imputed_df)\n",
        "\n",
        "   return imputed_df\n",
        "\n"
      ],
      "metadata": {
        "id": "eWuNfWFqmiW4"
      },
      "execution_count": null,
      "outputs": []
    },
    {
      "cell_type": "code",
      "source": [
        "# Iterative Imputer\n",
        "\n",
        "def ComorbidImputationIterative(df):\n",
        "  df_col = list(df.columns)\n",
        "  imputer = IterativeImputer(random_state=0)\n",
        "  imputed_df = pd.DataFrame(imputer.fit_transform(df))\n",
        "  imputed_df.columns=df_col\n",
        "  imputed_df.index=df.index\n",
        "  #print(imputed_df)\n",
        "  return imputed_df\n"
      ],
      "metadata": {
        "id": "GLna2u6Vv47K"
      },
      "execution_count": null,
      "outputs": []
    },
    {
      "cell_type": "code",
      "source": [
        "from pandas.core.computation.pytables import com\n",
        "# binarize comorbidities\n",
        "\n",
        "# use: simply pass in the sociodemographic (or with binarized social risk factors)\n",
        "# data frame. The function will return another dataframe containing all other\n",
        "# relevant information and binarized comorbidities\n",
        "\n",
        "def BinarizeComorbidities(df, column=\"comorbidity\"):\n",
        "  # get list of unique entries\n",
        "  entries = df.loc[:, column].unique()\n",
        "\n",
        "  # get unique list of conditions\n",
        "  conditions = []\n",
        "  for i in entries:\n",
        "    try:\n",
        "      subList = i.split(\", \")\n",
        "      for k in subList:\n",
        "        conditions.append(k)\n",
        "    except:\n",
        "      pass\n",
        "\n",
        "\n",
        "  uniqueConditions = list(set(conditions))\n",
        "\n",
        "  # set up sub_df (to be appended) - columns are each condition\n",
        "  comor_df = pd.DataFrame(index=df.index, columns=uniqueConditions, data=0)\n",
        "\n",
        "  # populate the df with binary (0 = no, 1 = yes)\n",
        "  for patient in df.index:\n",
        "    comorbidity = df.loc[patient, \"comorbidity\"]\n",
        "    try:\n",
        "      comorbidityList = comorbidity.split(\", \")\n",
        "      for i in comorbidityList:\n",
        "        comor_df.loc[patient, i] = 1\n",
        "    except:\n",
        "      for i in comor_df.columns:\n",
        "        comor_df.loc[patient, i] = np.nan\n",
        "\n",
        "  # remove comorbidity from original df\n",
        "  concat_df = df.copy()\n",
        "  concat_df.drop(columns=[\"comorbidity\"], inplace=True)\n",
        "\n",
        "\n",
        "  #copy it temp variable\n",
        "  temp_df = comor_df.copy()\n",
        "  #impute the missing values\n",
        "  comor_temp = ComorbidImputation(temp_df)\n",
        "  #comor_temp = ComorbidImputationSimple(temp_df)\n",
        "  #comor_temp = ComorbidImputationIterative(temp_df)\n",
        "  # concatenate the dfs\n",
        "  #fin_df = pd.concat([concat_df, comor_df], axis=1)\n",
        "  fin_df = pd.concat([concat_df, comor_temp], axis=1)\n",
        "\n",
        "  # return the final df\n",
        "  return fin_df"
      ],
      "metadata": {
        "id": "Hgmids0sKb7j"
      },
      "execution_count": null,
      "outputs": []
    },
    {
      "cell_type": "code",
      "source": [
        "# binarize social risk factors\n",
        "\n",
        "# use: simply pass in the sociodemographic (or with binarized comorbidities)\n",
        "# data frame. The function will return another dataframe containing all other\n",
        "# relevant information and binarized comorbidities\n",
        "\n",
        "def BinarizeSocialRisk(df, column=\"social_risk_factors\"):\n",
        "  # get list of unique entries\n",
        "  entries = df.loc[:, column].unique()\n",
        "\n",
        "  # get unique list of conditions\n",
        "  conditions = []\n",
        "  for i in entries:\n",
        "    try:\n",
        "      subList = i.split(\", \")\n",
        "      for k in subList:\n",
        "        conditions.append(k)\n",
        "    except:\n",
        "      pass\n",
        "\n",
        "\n",
        "  uniqueConditions = list(set(conditions))\n",
        "\n",
        "  # set up sub_df (to be appended) - columns are each condition\n",
        "  socialRisk_df = pd.DataFrame(index=df.index, columns=uniqueConditions, data=0)\n",
        "\n",
        "  # populate the df with binary (0 = no, 1 = yes)\n",
        "  for patient in df.index:\n",
        "    socialRisk = df.loc[patient, column]\n",
        "    try:\n",
        "      socialRiskList = socialRisk.split(\", \")\n",
        "      for i in socialRiskList:\n",
        "        socialRisk_df.loc[patient, i] = 1\n",
        "    except:\n",
        "      for i in socialRisk_df.columns:\n",
        "        socialRisk_df.loc[patient, i] = np.nan\n",
        "\n",
        "  # remove comorbidity from original df\n",
        "  concat_df = df.copy()\n",
        "  concat_df.drop(columns=[column], inplace=True)\n",
        "\n",
        "  # concatenate the dfs\n",
        "  fin_df = pd.concat([concat_df, socialRisk_df], axis=1)\n",
        "\n",
        "  # return the final df\n",
        "  return fin_df"
      ],
      "metadata": {
        "id": "tSjhnCbAKeAq"
      },
      "execution_count": null,
      "outputs": []
    },
    {
      "cell_type": "code",
      "source": [
        "bincomorbid_df = BinarizeComorbidities(base_df)"
      ],
      "metadata": {
        "id": "Wo3WQlDYBhIO"
      },
      "execution_count": null,
      "outputs": []
    },
    {
      "cell_type": "code",
      "source": [
        "#display(bincomorbid_df[bincomorbid_df.HIV.between(0,1, inclusive='neither')])\n",
        "display(bincomorbid_df.columns)\n",
        "#display(bincomorbid_df.loc[:,'outcome':'Anemia'])"
      ],
      "metadata": {
        "id": "emxJ-EmiB1rG",
        "colab": {
          "base_uri": "https://localhost:8080/",
          "height": 191
        },
        "outputId": "4122bafd-b92a-4354-f1a0-f736e877a6be"
      },
      "execution_count": 36,
      "outputs": [
        {
          "output_type": "display_data",
          "data": {
            "text/plain": [
              "Index(['identifier', 'registration_date', 'age_of_onset', 'gender', 'country',\n",
              "       'education', 'employment', 'number_of_children',\n",
              "       'number_of_daily_contacts', 'case_definition', 'diagnosis_code',\n",
              "       'type_of_resistance', 'bmi', 'social_risk_factors', 'outcome',\n",
              "       ' TNF-α antagonists', 'Anemia', 'COVID-19', 'Diabetes', 'HIV',\n",
              "       'Hepatic diseases', 'Hepatitis B', 'Hepatitis C', 'None',\n",
              "       'Not specified', 'Others', 'Pneumoconiosis', 'Post-COVID-19',\n",
              "       'Psychiatric illness', 'Renal disease',\n",
              "       'Systemically administered glucocorticoids', 'cytostatics'],\n",
              "      dtype='object')"
            ]
          },
          "metadata": {}
        }
      ]
    },
    {
      "cell_type": "code",
      "source": [
        "X=bincomorbid_df.loc[:,' TNF-α antagonists':'cytostatics']\n",
        "y=bincomorbid_df['outcome']"
      ],
      "metadata": {
        "id": "GjcarF4hw03z"
      },
      "execution_count": null,
      "outputs": []
    },
    {
      "cell_type": "code",
      "source": [
        "#split data into train (80%) and test (20%). random_state value ensures output is always the same\n",
        "#X_train, X_test, y_train, y_test = train_test_split(X, y, test_size=0.2,random_state=44)\n",
        "X_train, X_test, y_train, y_test = train_test_split(X, y, test_size=0.2)"
      ],
      "metadata": {
        "id": "k7sxGvjcxl2D"
      },
      "execution_count": null,
      "outputs": []
    },
    {
      "cell_type": "code",
      "source": [
        "X_train = normalize(X_train)\n",
        "X_test = normalize(X_test)\n",
        "le=LabelEncoder()\n",
        "trainY=le.fit_transform(y_train)\n",
        "testY=le.fit_transform(y_test)\n"
      ],
      "metadata": {
        "id": "5UX6LWI9HE7t"
      },
      "execution_count": 35,
      "outputs": []
    },
    {
      "cell_type": "code",
      "source": [
        "lbinarizer = LabelBinarizer()\n",
        "trainY = lbinarizer.fit_transform(y_train)\n",
        "testY = lbinarizer.transform(y_test)"
      ],
      "metadata": {
        "id": "b-m1nEHgMXBX"
      },
      "execution_count": null,
      "outputs": []
    },
    {
      "cell_type": "markdown",
      "source": [
        "# Figure Generation"
      ],
      "metadata": {
        "id": "Y3XhGMgl8fGf"
      }
    },
    {
      "cell_type": "markdown",
      "source": [
        "# Machine Learning"
      ],
      "metadata": {
        "id": "PH12pzYB8hfb"
      }
    },
    {
      "cell_type": "code",
      "source": [
        "# ROC Curve Generation\n",
        "\n",
        "# input testing outcomes, testing data frame, and trained model. Displays a graph\n",
        "# of the ROC curve to show specificity and sensitivity\n",
        "\n",
        "def ROCCurve(y_test, X_test, model):\n",
        "  # generate probability predictions\n",
        "  y_probs = model.predict_proba(X_test)[:,1]\n",
        "  # generate no skill probabilities\n",
        "  noSkill = [0] * len(y_test)\n",
        "  # generate no skill and model curves\n",
        "  model_fpr, model_tpr, _ = roc_curve(y_test, y_probs) # from sklearn.metrics\n",
        "  noSkill_fpr, noSkill_tpr, _ = roc_curve(y_test, noSkill)\n",
        "  # make graph\n",
        "  fig, ax = plt.subplots(figsize=(9,6))\n",
        "  ax.plot(model_fpr, model_tpr, c='tab:red', label=\"model\", marker=\"o\")\n",
        "  ax.plot(noSkill_fpr, noSkill_tpr, c='cornflowerblue', label=\"no skill\",\n",
        "          linestyle='--')\n",
        "  ax.set_xlabel(\"False Positive Rate\")\n",
        "  ax.set_ylabel(\"True Positive Rate\")\n",
        "  plt.legend()\n",
        "  plt.show()"
      ],
      "metadata": {
        "id": "EnPshso0AnWE"
      },
      "execution_count": null,
      "outputs": []
    },
    {
      "cell_type": "code",
      "source": [
        "# Model Metrics\n",
        "\n",
        "# pass in test data, test outcomes, and trained model. Return MCC, AUC, F1,\n",
        "# Sensitivity, specificity, accuracy\n",
        "\n",
        "def ModelMetrics(X_test, y_test, model):\n",
        "  # make prediction and get confusion matrix\n",
        "  y_pred = model.predict(X_test)\n",
        "  confusion = confusion_matrix(y_test, y_pred) # from sklearn.metrics\n",
        "  TP = confusion[1,1] # true positive\n",
        "  TN = confusion[0,0] # true negative\n",
        "  FP = confusion[0,1] # false positive\n",
        "  FN = confusion[1,0] # false negative\n",
        "\n",
        "  # calculate the accuracy\n",
        "  acc = (TP+TN)/(TP+FP+FN+TN)\n",
        "  print(f\"the accuracy is: {acc}\")\n",
        "\n",
        "  # calculate sensitivity\n",
        "  sens = TP/(TP+FN)\n",
        "  print(f\"the accuracy is: {sens}\")\n",
        "\n",
        "  # calculate specificity\n",
        "  spec = TN/(TN+FP)\n",
        "  print(f\"the specificity is: {spec}\")\n",
        "\n",
        "  # calculate F1\n",
        "  f1 = f1_score(y_test, y_pred) # from sklearn.metrics\n",
        "  print(f\"the f1 is: {f1}\")\n",
        "\n",
        "  # calculate MCC\n",
        "  MCC = matthews_corrcoef(y_test, y_pred) # from sklearn.metrics\n",
        "  print(f\"the MCC is: {MCC}\")\n",
        "\n",
        "  # Calculate AUC\n",
        "  # generate probability predictions\n",
        "  y_probs = model.predict_proba(X_test)[:,1]\n",
        "  AUC = roc_auc_score(y_test, y_probs) # from sklearn.metrics\n",
        "  print(f\"the AUC is: {AUC}\")"
      ],
      "metadata": {
        "id": "gsJx9LoHAndC"
      },
      "execution_count": null,
      "outputs": []
    },
    {
      "cell_type": "code",
      "source": [
        "# SHAP tree explainer\n",
        "\n",
        "# input x_train df, the IN ORDER column names of that df, and the TRAINED model\n",
        "# A graph will be displayed to the screen which shows feature importance in\n",
        "# order\n",
        "\n",
        "def TreeExplainer(X_train, columnNames, model):\n",
        "  explainer = shap.TreeExplainer(model)\n",
        "  shap_values = explainer.shap_values(X_train)\n",
        "  shap.summary_plot(shap_values, features=X_train, feature_names=columnNames)"
      ],
      "metadata": {
        "id": "Re_7mNbCzOf1"
      },
      "execution_count": null,
      "outputs": []
    },
    {
      "cell_type": "code",
      "source": [
        "from numpy.random.mtrand import rand\n",
        "def GetRandomForestModel(X,y):\n",
        "  rf_model = RandomForestClassifier(n_estimators=50, max_features='sqrt', random_state=44)\n",
        "  rf_model.fit(X_train, y_train)\n",
        "  return rf_model"
      ],
      "metadata": {
        "id": "nzWrQwsJy9Qx"
      },
      "execution_count": null,
      "outputs": []
    },
    {
      "cell_type": "code",
      "source": [
        "def RandomForestPredict(x_test, model):\n",
        "  pred = model.predict(x_test)\n",
        "  return pred\n"
      ],
      "metadata": {
        "id": "Q65CkH141S3l"
      },
      "execution_count": null,
      "outputs": []
    },
    {
      "cell_type": "code",
      "source": [
        "def GetFeedForwardModel():\n",
        "  model = Sequential()\n",
        "  #model.add(Flatten())\n",
        "  #model.add(Dense(256, input_shape=(X_train.shape[1],), activation=\"sigmoid\"))\n",
        "  #model.add(Dense(10, input_shape=(X_train.shape[1],), activation=\"sigmoid\"))\n",
        "  model.add(Dense(32, input_shape=(X_train.shape[1],), activation=\"relu\"))\n",
        "  model.add(Dense(16,  activation=\"relu\"))\n",
        "  model.add(Dense(1, activation=\"sigmoid\"))\n",
        "  #model.add(Dense(1, activation=\"softmax\"))\n",
        "  return model"
      ],
      "metadata": {
        "id": "IPMGU54S_ZeM"
      },
      "execution_count": null,
      "outputs": []
    },
    {
      "cell_type": "code",
      "source": [
        "def GetFeedForwardModelRelu():\n",
        "  model = Sequential()\n",
        "  #model.add(Flatten())\n",
        "  model.add(Dense(256, input_shape=(X_train.shape[1],), activation=\"relu\"))\n",
        "  #model.add(Dense(128, activation=\"relu\"))\n",
        "  model.add(Dense(1, activation=\"softmax\"))\n",
        "  return model"
      ],
      "metadata": {
        "id": "kf5BgE3Dmp-7"
      },
      "execution_count": null,
      "outputs": []
    },
    {
      "cell_type": "markdown",
      "source": [
        "# Testing\n",
        "- keep empty when not in use"
      ],
      "metadata": {
        "id": "vm4h-96wEhJW"
      }
    },
    {
      "cell_type": "code",
      "source": [
        "#train model and predict results; used 80/20 split for train/test\n",
        "model=GetRandomForestModel(X,y)\n",
        "predictions = RandomForestPredict(X_test, model)\n",
        "#display(pd.DataFrame(predictions))\n",
        "#print('Y TEST')\n",
        "#display(y_test)\n",
        "importances = model.feature_importances_\n",
        "columns = X.columns\n",
        "i=0\n",
        "#display contributions of each feature in the prediction; Similar results as Awanti's paper though I get\n",
        "# Anemia, HIV and Diabetes (ignoring None/Other) as opposed to Anemia, HIV, Hepatitis in Awanti's paper\n",
        "while (i<len(columns)):\n",
        "  print (f\"Importance of Feature '{columns[i]}' is {round(importances[i]*100,2)}%\")\n",
        "  i+=1"
      ],
      "metadata": {
        "colab": {
          "base_uri": "https://localhost:8080/"
        },
        "id": "okZHVsUF2C_o",
        "outputId": "ac0ebe08-521a-45d3-9d65-19dd7c951ab1"
      },
      "execution_count": null,
      "outputs": [
        {
          "output_type": "stream",
          "name": "stdout",
          "text": [
            "Importance of Feature 'None' is 16.82%\n",
            "Importance of Feature ' TNF-α antagonists' is 1.74%\n",
            "Importance of Feature 'Hepatitis B' is 4.0%\n",
            "Importance of Feature 'Systemically administered glucocorticoids' is 2.9%\n",
            "Importance of Feature 'cytostatics' is 2.52%\n",
            "Importance of Feature 'HIV' is 9.61%\n",
            "Importance of Feature 'Not specified' is 1.63%\n",
            "Importance of Feature 'Psychiatric illness' is 7.82%\n",
            "Importance of Feature 'Others' is 8.93%\n",
            "Importance of Feature 'Pneumoconiosis' is 0.0%\n",
            "Importance of Feature 'Post-COVID-19' is 2.27%\n",
            "Importance of Feature 'Diabetes' is 8.75%\n",
            "Importance of Feature 'Renal disease' is 2.11%\n",
            "Importance of Feature 'Hepatitis C' is 8.56%\n",
            "Importance of Feature 'COVID-19' is 5.28%\n",
            "Importance of Feature 'Hepatic diseases' is 1.47%\n",
            "Importance of Feature 'Anemia' is 15.59%\n"
          ]
        }
      ]
    },
    {
      "cell_type": "code",
      "source": [
        "checkpoint = ModelCheckpoint(filepath=\"/content/drive/MyDrive/Rohit Work/fnn_model_sgd\", monitor='accuracy', verbose=1, save_best_only=True, save_weights_only=False, mode='auto')\n",
        "early = EarlyStopping(monitor='accuracy', min_delta=0, patience=20, verbose=1, mode='auto')"
      ],
      "metadata": {
        "id": "D2KvG7oYGGGp"
      },
      "execution_count": null,
      "outputs": []
    },
    {
      "cell_type": "code",
      "source": [
        "\n",
        "sgd = SGD(0.1)\n",
        "model=GetFeedForwardModel()\n",
        "model.compile(loss=\"binary_crossentropy\", optimizer=sgd, metrics=[\"accuracy\"] )\n",
        "modelrelu=GetFeedForwardModelRelu()\n",
        "modelrelu.compile(loss=\"binary_crossentropy\", optimizer=sgd, metrics=[\"accuracy\"])\n",
        "modelreluadam = GetFeedForwardModelRelu()\n",
        "modelreluadam.compile(loss=\"binary_crossentropy\", optimizer=Adam(learning_rate=0.01), metrics=[\"accuracy\"])\n",
        "model.summary()\n",
        "modelrelu.summary()\n",
        "modelreluadam.summary()\n"
      ],
      "metadata": {
        "colab": {
          "base_uri": "https://localhost:8080/"
        },
        "id": "WGTsBMY3EDQy",
        "outputId": "5cd0002e-8014-4bd0-b882-67812067dede"
      },
      "execution_count": null,
      "outputs": [
        {
          "output_type": "stream",
          "name": "stdout",
          "text": [
            "Model: \"sequential_38\"\n",
            "_________________________________________________________________\n",
            " Layer (type)                Output Shape              Param #   \n",
            "=================================================================\n",
            " dense_91 (Dense)            (None, 3)                 54        \n",
            "                                                                 \n",
            " dense_92 (Dense)            (None, 5)                 20        \n",
            "                                                                 \n",
            " dense_93 (Dense)            (None, 1)                 6         \n",
            "                                                                 \n",
            "=================================================================\n",
            "Total params: 80\n",
            "Trainable params: 80\n",
            "Non-trainable params: 0\n",
            "_________________________________________________________________\n",
            "Model: \"sequential_39\"\n",
            "_________________________________________________________________\n",
            " Layer (type)                Output Shape              Param #   \n",
            "=================================================================\n",
            " dense_94 (Dense)            (None, 256)               4608      \n",
            "                                                                 \n",
            " dense_95 (Dense)            (None, 1)                 257       \n",
            "                                                                 \n",
            "=================================================================\n",
            "Total params: 4,865\n",
            "Trainable params: 4,865\n",
            "Non-trainable params: 0\n",
            "_________________________________________________________________\n",
            "Model: \"sequential_40\"\n",
            "_________________________________________________________________\n",
            " Layer (type)                Output Shape              Param #   \n",
            "=================================================================\n",
            " dense_96 (Dense)            (None, 256)               4608      \n",
            "                                                                 \n",
            " dense_97 (Dense)            (None, 1)                 257       \n",
            "                                                                 \n",
            "=================================================================\n",
            "Total params: 4,865\n",
            "Trainable params: 4,865\n",
            "Non-trainable params: 0\n",
            "_________________________________________________________________\n"
          ]
        }
      ]
    },
    {
      "cell_type": "code",
      "source": [
        "#hist = model.fit(X_train, trainY, validation_data=(X_test, testY), epochs=20,batch_size=64,callbacks=[checkpoint, early])\n",
        "hist = model.fit(X_train, trainY, epochs=10,batch_size=16)"
      ],
      "metadata": {
        "colab": {
          "base_uri": "https://localhost:8080/"
        },
        "id": "DDHtHNZQGqOi",
        "outputId": "19fb7333-bc93-49ac-8a1d-27e1fa5e8e7d"
      },
      "execution_count": null,
      "outputs": [
        {
          "output_type": "stream",
          "name": "stdout",
          "text": [
            "Epoch 1/10\n",
            "419/419 [==============================] - 2s 2ms/step - loss: 0.4781 - accuracy: 0.8054\n",
            "Epoch 2/10\n",
            "419/419 [==============================] - 1s 2ms/step - loss: 0.4723 - accuracy: 0.8054\n",
            "Epoch 3/10\n",
            "419/419 [==============================] - 1s 2ms/step - loss: 0.4716 - accuracy: 0.8054\n",
            "Epoch 4/10\n",
            "419/419 [==============================] - 1s 2ms/step - loss: 0.4713 - accuracy: 0.8054\n",
            "Epoch 5/10\n",
            "419/419 [==============================] - 1s 2ms/step - loss: 0.4715 - accuracy: 0.8054\n",
            "Epoch 6/10\n",
            "419/419 [==============================] - 1s 2ms/step - loss: 0.4705 - accuracy: 0.8054\n",
            "Epoch 7/10\n",
            "419/419 [==============================] - 1s 2ms/step - loss: 0.4703 - accuracy: 0.8054\n",
            "Epoch 8/10\n",
            "419/419 [==============================] - 1s 2ms/step - loss: 0.4709 - accuracy: 0.8054\n",
            "Epoch 9/10\n",
            "419/419 [==============================] - 1s 3ms/step - loss: 0.4702 - accuracy: 0.8054\n",
            "Epoch 10/10\n",
            "419/419 [==============================] - 2s 4ms/step - loss: 0.4707 - accuracy: 0.8054\n"
          ]
        }
      ]
    },
    {
      "cell_type": "code",
      "source": [
        "histrelu = modelrelu.fit(X_train, trainY, validation_data=(X_test, testY), epochs=20,batch_size=10)"
      ],
      "metadata": {
        "id": "3XsaaZWMnTBY"
      },
      "execution_count": null,
      "outputs": []
    },
    {
      "cell_type": "code",
      "source": [
        "histreluadam = modelreluadam.fit(X_train, trainY, validation_data=(X_test, testY), epochs=20,batch_size=10)"
      ],
      "metadata": {
        "id": "u4ws4c5CwgZ5"
      },
      "execution_count": null,
      "outputs": []
    },
    {
      "cell_type": "code",
      "source": [
        "plt.plot(hist.history[\"accuracy\"])\n",
        "plt.plot(hist.history['val_accuracy'])\n",
        "plt.plot(hist.history['loss'])\n",
        "plt.plot(hist.history['val_loss'])\n",
        "plt.title(\"model accuracy\")\n",
        "plt.ylabel(\"Accuracy\")\n",
        "plt.xlabel(\"Epoch\")\n",
        "plt.legend([\"Accuracy\",\"Val Acc\", \"loss\", \"Val Loss\"])\n",
        "plt.show()"
      ],
      "metadata": {
        "id": "MDqqu185QQ7K"
      },
      "execution_count": null,
      "outputs": []
    },
    {
      "cell_type": "code",
      "source": [
        "train_acc = model.evaluate(X_train, trainY, batch_size=32)[1]\n",
        "test_acc = model.evaluate(X_test, testY, batch_size=32)[1]\n",
        "print('Training accuracy: %s' % train_acc)\n",
        "print('Testing accuracy: %s' % test_acc)\n",
        "\n",
        "losses = hist.history['loss']\n",
        "plt.plot(range(len(losses)), losses, 'r')\n",
        "plt.show()"
      ],
      "metadata": {
        "colab": {
          "base_uri": "https://localhost:8080/",
          "height": 499
        },
        "id": "_c74mJ4T0QpD",
        "outputId": "182bf2e5-4b52-410e-aaba-01cc6aafcf0c"
      },
      "execution_count": null,
      "outputs": [
        {
          "output_type": "stream",
          "name": "stdout",
          "text": [
            "210/210 [==============================] - 1s 2ms/step - loss: 0.4702 - accuracy: 0.8054\n",
            "53/53 [==============================] - 0s 2ms/step - loss: 0.4781 - accuracy: 0.7995\n",
            "Training accuracy: 0.8053731322288513\n",
            "Testing accuracy: 0.7995226979255676\n"
          ]
        },
        {
          "output_type": "display_data",
          "data": {
            "text/plain": [
              "<Figure size 640x480 with 1 Axes>"
            ],
            "image/png": "[encoded data removed]"
          },
          "metadata": {}
        }
      ]
    },
    {
      "cell_type": "code",
      "source": [
        "#ModelMetrics(X_test, testY, model)\n",
        "\n",
        "#predsigmoid = (model.predict(X_test)>0.5).astype(int)\n",
        "#predrelu=(modelrelu.predict(X_test)>0.5).astype(int)\n",
        "#modelsigmoid = load_model('/content/drive/MyDrive/Rohit Work/fnn_model')\n",
        "#predsigmoid = modelsigmoid.predict(X_test)\n",
        "predsigmoid = model.predict(X_test)\n",
        "predrelu = modelrelu.predict(X_test)\n",
        "predreluadam = modelreluadam.predict(X_test)\n",
        "\n",
        "for i in range (10):\n",
        "  print(testY[i],predsigmoid[i],predrelu[i], predreluadam[i])\n"
      ],
      "metadata": {
        "id": "zuymT0OjQfBe"
      },
      "execution_count": null,
      "outputs": []
    }
  ]
}