{
  "cells": [
    {
      "cell_type": "markdown",
      "metadata": {
        "id": "view-in-github",
        "colab_type": "text"
      },
      "source": [
        "<a href=\"https://colab.research.google.com/github/pioneerbluepanthers/computationaldrug/blob/main/rohit_comparing_binarization_effects.ipynb\" target=\"_parent\"><img src=\"https://colab.research.google.com/assets/colab-badge.svg\" alt=\"Open In Colab\"/></a>"
      ]
    },
    {
      "cell_type": "markdown",
      "metadata": {
        "id": "kc0LDKDrDzdb"
      },
      "source": [
        "# Imports"
      ]
    },
    {
      "cell_type": "code",
      "execution_count": null,
      "metadata": {
        "id": "3ctLAy_9zYOP"
      },
      "outputs": [],
      "source": [
        "! pip install shap"
      ]
    },
    {
      "cell_type": "code",
      "execution_count": 61,
      "metadata": {
        "id": "3ltsOAfqD2Pt"
      },
      "outputs": [],
      "source": [
        "# data science\n",
        "import pandas as pd\n",
        "import numpy as np\n",
        "from sklearn.impute import KNNImputer\n",
        "from sklearn.experimental import enable_iterative_imputer\n",
        "from sklearn.impute import SimpleImputer, IterativeImputer\n",
        "from sklearn.model_selection import train_test_split\n",
        "from sklearn.preprocessing import LabelEncoder,normalize\n",
        "from sklearn.metrics import classification_report, mean_squared_error, accuracy_score\n",
        "import keras\n",
        "from sklearn import svm\n",
        "\n",
        "# figure generation\n",
        "import matplotlib.pyplot as plt\n",
        "\n",
        "# machine learning\n",
        "from sklearn.metrics import confusion_matrix\n",
        "from sklearn.metrics import roc_auc_score\n",
        "from sklearn.metrics import f1_score\n",
        "from sklearn.metrics import matthews_corrcoef\n",
        "from sklearn.metrics import roc_curve\n",
        "from sklearn.ensemble import RandomForestClassifier\n",
        "from sklearn.neighbors import KNeighborsClassifier\n",
        "from keras.models import Sequential, load_model\n",
        "from keras.layers import Dense, Flatten\n",
        "from keras.optimizers import SGD, Adam\n",
        "from keras.callbacks import ModelCheckpoint, EarlyStopping\n",
        "import xgboost as xgb\n",
        "import shap"
      ]
    },
    {
      "cell_type": "code",
      "execution_count": 62,
      "metadata": {
        "colab": {
          "base_uri": "https://localhost:8080/"
        },
        "id": "6W2aovK12ywM",
        "outputId": "449dc76d-eb68-4eb2-ddb7-b4a99c8d2abe"
      },
      "outputs": [
        {
          "output_type": "stream",
          "name": "stdout",
          "text": [
            "Drive already mounted at /content/drive; to attempt to forcibly remount, call drive.mount(\"/content/drive\", force_remount=True).\n"
          ]
        }
      ],
      "source": [
        "# mount local drive\n",
        "from google.colab import drive\n",
        "drive.mount('/content/drive')"
      ]
    },
    {
      "cell_type": "code",
      "execution_count": 63,
      "metadata": {
        "id": "Zc5cg_sK52hf"
      },
      "outputs": [],
      "source": [
        "#read social data file\n",
        "base_df = pd.read_csv(\"/content/drive/MyDrive/Rohit Work/social_data.csv\", index_col=0)"
      ]
    },
    {
      "cell_type": "code",
      "execution_count": null,
      "metadata": {
        "id": "sgPvF1-b-z34"
      },
      "outputs": [],
      "source": [
        "base_df.head()"
      ]
    },
    {
      "cell_type": "code",
      "execution_count": null,
      "metadata": {
        "id": "5QDPrd0_byZo"
      },
      "outputs": [],
      "source": [
        "base_df.sample"
      ]
    },
    {
      "cell_type": "markdown",
      "metadata": {
        "id": "f7dbbo0D8eBA"
      },
      "source": [
        "# Data processing"
      ]
    },
    {
      "cell_type": "code",
      "execution_count": 64,
      "metadata": {
        "id": "nyNqgIiWT6m1"
      },
      "outputs": [],
      "source": [
        "# KNN imputation\n",
        "\n",
        "def KNNImputation(df):\n",
        "  #df_col_f=['patient_id']\n",
        "  df_col = list(df.columns)\n",
        "  df_index = df.index\n",
        "\n",
        "  # initialize KNN imputer with 2 neighbors\n",
        "  imputer=KNNImputer(n_neighbors=2)\n",
        "  # make a copy of input dataframe\n",
        "  temp_df = df.copy()\n",
        "  # change the index to numerical values\n",
        "  temp_df.reset_index(inplace=True)\n",
        "  temp_df.drop(columns=temp_df.columns[0], inplace=True)\n",
        "  #Compute KNN fit transform to impute the data\n",
        "  new_temp_df = pd.DataFrame(imputer.fit_transform(temp_df.reset_index()))\n",
        "  #drop the extra first column\n",
        "  new_temp_df.drop(columns=new_temp_df.columns[0], inplace=True)\n",
        "  #set the column and index values\n",
        "  new_temp_df.columns=df_col\n",
        "  new_temp_df.index = df_index\n",
        "  imputed_df=new_temp_df.copy()\n",
        "  #sort the dataframe columns in alphbetical order\n",
        "  imputed_df=imputed_df.reindex(sorted(imputed_df.columns), axis=1)\n",
        "\n",
        "  return imputed_df"
      ]
    },
    {
      "cell_type": "code",
      "execution_count": null,
      "metadata": {
        "id": "eWuNfWFqmiW4"
      },
      "outputs": [],
      "source": [
        "# Simple Imputer\n",
        "\n",
        "def ComorbidImputationSimple(df):\n",
        "   df_col = list(df.columns)\n",
        "   imputer = SimpleImputer(missing_values=np.nan, strategy='most_frequent')\n",
        "   imputed_df = pd.DataFrame(imputer.fit_transform(df))\n",
        "   imputed_df.columns=df_col\n",
        "   imputed_df.index=df.index\n",
        "   #print(imputed_df)\n",
        "\n",
        "   return imputed_df\n",
        "\n"
      ]
    },
    {
      "cell_type": "code",
      "execution_count": null,
      "metadata": {
        "id": "GLna2u6Vv47K"
      },
      "outputs": [],
      "source": [
        "# Iterative Imputer\n",
        "\n",
        "def ComorbidImputationIterative(df):\n",
        "  df_col = list(df.columns)\n",
        "  imputer = IterativeImputer(random_state=0)\n",
        "  imputed_df = pd.DataFrame(imputer.fit_transform(df))\n",
        "  imputed_df.columns=df_col\n",
        "  imputed_df.index=df.index\n",
        "  #print(imputed_df)\n",
        "  return imputed_df\n"
      ]
    },
    {
      "cell_type": "code",
      "execution_count": 65,
      "metadata": {
        "id": "Hgmids0sKb7j"
      },
      "outputs": [],
      "source": [
        "from pandas.core.computation.pytables import com\n",
        "# binarize comorbidities\n",
        "\n",
        "# use: simply pass in the sociodemographic (or with binarized social risk factors)\n",
        "# data frame. The function will return another dataframe containing all other\n",
        "# relevant information and binarized comorbidities\n",
        "\n",
        "def BinarizeComorbidities(df, column=\"comorbidity\"):\n",
        "  # get list of unique entries\n",
        "  entries = df.loc[:, column].unique()\n",
        "\n",
        "  # get unique list of conditions\n",
        "  conditions = []\n",
        "  for i in entries:\n",
        "    try:\n",
        "      subList = i.split(\", \")\n",
        "      for k in subList:\n",
        "        conditions.append(k)\n",
        "    except:\n",
        "      pass\n",
        "\n",
        "\n",
        "  uniqueConditions = list(set(conditions))\n",
        "\n",
        "  # set up sub_df (to be appended) - columns are each condition\n",
        "  comor_df = pd.DataFrame(index=df.index, columns=uniqueConditions, data=0)\n",
        "\n",
        "  # populate the df with binary (0 = no, 1 = yes)\n",
        "  for patient in df.index:\n",
        "    comorbidity = df.loc[patient, \"comorbidity\"]\n",
        "    try:\n",
        "      comorbidityList = comorbidity.split(\", \")\n",
        "      for i in comorbidityList:\n",
        "        comor_df.loc[patient, i] = 1\n",
        "    except:\n",
        "      for i in comor_df.columns:\n",
        "        comor_df.loc[patient, i] = np.nan\n",
        "\n",
        "  # remove comorbidity from original df\n",
        "  concat_df = df.copy()\n",
        "  concat_df.drop(columns=[\"comorbidity\"], inplace=True)\n",
        "\n",
        "\n",
        "  #copy it temp variable\n",
        "  temp_df = comor_df.copy()\n",
        "  #impute the missing values - using KNN imputation\n",
        "  comor_temp = KNNImputation(temp_df)\n",
        "  #comor_temp = ComorbidImputationSimple(temp_df)\n",
        "  #comor_temp = ComorbidImputationIterative(temp_df)\n",
        "  # concatenate the dfs\n",
        "  #fin_df = pd.concat([concat_df, comor_df], axis=1)\n",
        "  fin_df = pd.concat([concat_df, comor_temp], axis=1)\n",
        "\n",
        "  # return the final df\n",
        "  return fin_df"
      ]
    },
    {
      "cell_type": "code",
      "execution_count": 66,
      "metadata": {
        "id": "tSjhnCbAKeAq"
      },
      "outputs": [],
      "source": [
        "# binarize social risk factors\n",
        "\n",
        "# use: simply pass in the sociodemographic (or with binarized comorbidities)\n",
        "# data frame. The function will return another dataframe containing all other\n",
        "# relevant information and binarized comorbidities\n",
        "\n",
        "def BinarizeSocialRisk(df, column=\"social_risk_factors\"):\n",
        "  # get list of unique entries\n",
        "  entries = df.loc[:, column].unique()\n",
        "\n",
        "  # get unique list of conditions\n",
        "  conditions = []\n",
        "  for i in entries:\n",
        "    try:\n",
        "      subList = i.split(\", \")\n",
        "      for k in subList:\n",
        "        conditions.append(k)\n",
        "    except:\n",
        "      pass\n",
        "\n",
        "\n",
        "  uniqueConditions = list(set(conditions))\n",
        "\n",
        "  # set up sub_df (to be appended) - columns are each condition\n",
        "  socialRisk_df = pd.DataFrame(index=df.index, columns=uniqueConditions, data=0)\n",
        "\n",
        "  # populate the df with binary (0 = no, 1 = yes)\n",
        "  for patient in df.index:\n",
        "    socialRisk = df.loc[patient, column]\n",
        "    try:\n",
        "      socialRiskList = socialRisk.split(\", \")\n",
        "      for i in socialRiskList:\n",
        "        socialRisk_df.loc[patient, i] = 1\n",
        "    except:\n",
        "      for i in socialRisk_df.columns:\n",
        "        socialRisk_df.loc[patient, i] = np.nan\n",
        "\n",
        "  # remove comorbidity from original df\n",
        "  concat_df = df.copy()\n",
        "  concat_df.drop(columns=[column], inplace=True)\n",
        "  #copy it temp variable\n",
        "  temp_df = socialRisk_df.copy()\n",
        "  #impute the missing values - using KNN imputation\n",
        "  sociRisk_temp = KNNImputation(temp_df)\n",
        "  # concatenate the dfs\n",
        "  #fin_df = pd.concat([concat_df, socialRisk_df], axis=1)\n",
        "  fin_df = pd.concat([concat_df, sociRisk_temp], axis=1)\n",
        "\n",
        "  # return the final df\n",
        "  return fin_df"
      ]
    },
    {
      "cell_type": "code",
      "execution_count": 69,
      "metadata": {
        "id": "AWbAVby5lN67"
      },
      "outputs": [],
      "source": [
        "# Get X and y data for Comorbidity, Social or both\n",
        "def GetXyData(base_df, datatype):\n",
        "  como_start_col=' TNF-α antagonists'\n",
        "  como_end_col='cytostatics'\n",
        "  so_start_col='Current smoker'\n",
        "  so_end_col='refugees'\n",
        "  comoStr = 'co_mo'\n",
        "  socStr='so_r'\n",
        "\n",
        "  if datatype == comoStr:\n",
        "    #get binarized comorbidity data\n",
        "    bindata = BinarizeComorbidities(base_df)\n",
        "    #select the X values using start and end columns\n",
        "    X=bindata.loc[:,como_start_col:como_end_col]\n",
        "    #select outcome as the y\n",
        "    y=bindata['outcome']\n",
        "  elif datatype == socStr:\n",
        "    bindata = BinarizeSocialRisk(base_df)\n",
        "    #select the X values using start and end columns\n",
        "    X=bindata.loc[:,so_start_col:so_end_col]\n",
        "    #select outcome as the y\n",
        "    y=bindata['outcome']\n",
        "    #display(bindata.columns)\n",
        "  else:\n",
        "    bin1 = BinarizeComorbidities(base_df)\n",
        "    bin2 = BinarizeSocialRisk(base_df)\n",
        "    X1 = bin1.loc[:,como_start_col:como_end_col]\n",
        "    X2 = bin2.loc[:,so_start_col:so_end_col]\n",
        "    X = pd.concat ([X1, X2],axis=1)\n",
        "    display(X.columns)\n",
        "    y=bin1['outcome']\n",
        "  return (X,y)"
      ]
    },
    {
      "cell_type": "code",
      "execution_count": 70,
      "metadata": {
        "id": "Wo3WQlDYBhIO",
        "colab": {
          "base_uri": "https://localhost:8080/",
          "height": 208
        },
        "outputId": "5de70b83-58bc-4a16-e480-be7e55669929"
      },
      "outputs": [
        {
          "output_type": "display_data",
          "data": {
            "text/plain": [
              "Index([' TNF-α antagonists', 'Anemia', 'COVID-19', 'Diabetes', 'HIV',\n",
              "       'Hepatic diseases', 'Hepatitis B', 'Hepatitis C', 'None',\n",
              "       'Not specified', 'Others', 'Pneumoconiosis', 'Post-COVID-19',\n",
              "       'Psychiatric illness', 'Renal disease',\n",
              "       'Systemically administered glucocorticoids', 'cytostatics',\n",
              "       'Current smoker', 'Documented MDR contact', 'Ex prisoner', 'Homeless',\n",
              "       'Immigrants', 'Patient alcohol abuse',\n",
              "       'Patient alcohol abuse not available/unknown', 'Patient drug abuse',\n",
              "       'Patient smoking data not available/unknown', 'TB care worker',\n",
              "       'Worked abroad', 'internal migrants', 'refugees'],\n",
              "      dtype='object')"
            ]
          },
          "metadata": {}
        }
      ],
      "source": [
        "#Get binarized comorbidity data\n",
        "#bincomorbid_df = BinarizeComorbidities(base_df)\n",
        "#comoStr = 'co_mo'\n",
        "#comoStr = 'so_r'\n",
        "comoStr = 'both'\n",
        "X, y = GetXyData(base_df, comoStr)"
      ]
    },
    {
      "cell_type": "code",
      "execution_count": null,
      "metadata": {
        "id": "emxJ-EmiB1rG"
      },
      "outputs": [],
      "source": [
        "#display(bincomorbid_df[bincomorbid_df.HIV.between(0,1, inclusive='neither')])\n",
        "#display(bincomorbid_df.columns)\n",
        "#display(X.columns)\n",
        "#display(bincomorbid_df.loc[:,'outcome':'Anemia'])"
      ]
    },
    {
      "cell_type": "code",
      "execution_count": null,
      "metadata": {
        "id": "GjcarF4hw03z"
      },
      "outputs": [],
      "source": [
        "#X=bincomorbid_df.loc[:,' TNF-α antagonists':'cytostatics']\n",
        "#y=bincomorbid_df['outcome']\n",
        "#display(X.columns)"
      ]
    },
    {
      "cell_type": "code",
      "execution_count": 71,
      "metadata": {
        "id": "k7sxGvjcxl2D"
      },
      "outputs": [],
      "source": [
        "#split data into train (80%) and test (20%). random_state value ensures output is always the same\n",
        "#X_train, X_test, y_train, y_test = train_test_split(X, y, test_size=0.2,random_state=44)\n",
        "X_train, X_test, y_train, y_test = train_test_split(X, y, test_size=0.2)"
      ]
    },
    {
      "cell_type": "code",
      "execution_count": 72,
      "metadata": {
        "id": "5UX6LWI9HE7t"
      },
      "outputs": [],
      "source": [
        "#normalize input data\n",
        "X_train = normalize(X_train)\n",
        "X_test = normalize(X_test)\n",
        "#label encode outcome data\n",
        "le=LabelEncoder()\n",
        "trainY=le.fit_transform(y_train)\n",
        "testY=le.fit_transform(y_test)\n"
      ]
    },
    {
      "cell_type": "code",
      "execution_count": 73,
      "metadata": {
        "id": "kg4u5OmGUE7U"
      },
      "outputs": [],
      "source": [
        "# converting dataset into DMatrix for XGBoost\n",
        "dm_train = xgb.DMatrix(X_train, trainY)\n",
        "dm_test = xgb.DMatrix(X_test, testY)"
      ]
    },
    {
      "cell_type": "code",
      "execution_count": null,
      "metadata": {
        "id": "b-m1nEHgMXBX"
      },
      "outputs": [],
      "source": [
        "lbinarizer = LabelBinarizer()\n",
        "trainY = lbinarizer.fit_transform(y_train)\n",
        "testY = lbinarizer.transform(y_test)"
      ]
    },
    {
      "cell_type": "markdown",
      "metadata": {
        "id": "Y3XhGMgl8fGf"
      },
      "source": [
        "# Figure Generation"
      ]
    },
    {
      "cell_type": "markdown",
      "metadata": {
        "id": "PH12pzYB8hfb"
      },
      "source": [
        "# Machine Learning"
      ]
    },
    {
      "cell_type": "code",
      "execution_count": 74,
      "metadata": {
        "id": "EnPshso0AnWE"
      },
      "outputs": [],
      "source": [
        "# ROC Curve Generation\n",
        "\n",
        "# input testing outcomes, testing data frame, and trained model. Displays a graph\n",
        "# of the ROC curve to show specificity and sensitivity\n",
        "\n",
        "def ROCCurve(y_test, X_test, model):\n",
        "  # generate probability predictions\n",
        "  y_probs = model.predict_proba(X_test)[:,1]\n",
        "  # generate no skill probabilities\n",
        "  noSkill = [0] * len(y_test)\n",
        "  # generate no skill and model curves\n",
        "  model_fpr, model_tpr, _ = roc_curve(y_test, y_probs) # from sklearn.metrics\n",
        "  noSkill_fpr, noSkill_tpr, _ = roc_curve(y_test, noSkill)\n",
        "  # make graph\n",
        "  fig, ax = plt.subplots(figsize=(9,6))\n",
        "  ax.plot(model_fpr, model_tpr, c='tab:red', label=\"model\", marker=\"o\")\n",
        "  ax.plot(noSkill_fpr, noSkill_tpr, c='cornflowerblue', label=\"no skill\",\n",
        "          linestyle='--')\n",
        "  ax.set_xlabel(\"False Positive Rate\")\n",
        "  ax.set_ylabel(\"True Positive Rate\")\n",
        "  plt.legend()\n",
        "  plt.show()"
      ]
    },
    {
      "cell_type": "code",
      "execution_count": 75,
      "metadata": {
        "id": "gsJx9LoHAndC"
      },
      "outputs": [],
      "source": [
        "# Model Metrics\n",
        "\n",
        "# pass in test data, test outcomes, and trained model. Return MCC, AUC, F1,\n",
        "# Sensitivity, specificity, accuracy\n",
        "\n",
        "def ModelMetrics(X_test, y_test, model):\n",
        "  # make prediction and get confusion matrix\n",
        "  y_pred = model.predict(X_test)\n",
        "  confusion = confusion_matrix(y_test, y_pred) # from sklearn.metrics\n",
        "  TP = confusion[1,1] # true positive\n",
        "  TN = confusion[0,0] # true negative\n",
        "  FP = confusion[0,1] # false positive\n",
        "  FN = confusion[1,0] # false negative\n",
        "\n",
        "  # calculate the accuracy\n",
        "  acc = (TP+TN)/(TP+FP+FN+TN)\n",
        "  print(f\"the accuracy is: {acc}\")\n",
        "\n",
        "  # calculate sensitivity\n",
        "  sens = TP/(TP+FN)\n",
        "  print(f\"the accuracy is: {sens}\")\n",
        "\n",
        "  # calculate specificity\n",
        "  spec = TN/(TN+FP)\n",
        "  print(f\"the specificity is: {spec}\")\n",
        "\n",
        "  # calculate F1\n",
        "  f1 = f1_score(y_test, y_pred) # from sklearn.metrics\n",
        "  print(f\"the f1 is: {f1}\")\n",
        "\n",
        "  # calculate MCC\n",
        "  MCC = matthews_corrcoef(y_test, y_pred) # from sklearn.metrics\n",
        "  print(f\"the MCC is: {MCC}\")\n",
        "\n",
        "  # Calculate AUC\n",
        "  # generate probability predictions\n",
        "  y_probs = model.predict_proba(X_test)[:,1]\n",
        "  AUC = roc_auc_score(y_test, y_probs) # from sklearn.metrics\n",
        "  print(f\"the AUC is: {AUC}\")"
      ]
    },
    {
      "cell_type": "code",
      "execution_count": 76,
      "metadata": {
        "id": "Re_7mNbCzOf1"
      },
      "outputs": [],
      "source": [
        "# SHAP tree explainer\n",
        "\n",
        "# input x_train df, the IN ORDER column names of that df, and the TRAINED model\n",
        "# A graph will be displayed to the screen which shows feature importance in\n",
        "# order\n",
        "\n",
        "def TreeExplainer(X_train, columnNames, model):\n",
        "  explainer = shap.TreeExplainer(model)\n",
        "  shap_values = explainer.shap_values(X_train)\n",
        "  shap.summary_plot(shap_values, features=X_train, feature_names=columnNames)"
      ]
    },
    {
      "cell_type": "code",
      "execution_count": 77,
      "metadata": {
        "id": "f95ian96nCaR"
      },
      "outputs": [],
      "source": [
        "# SHAP Kernel Explainer\n",
        "\n",
        "def KernelExplainer(X_train, X_test, columnNames, model):\n",
        "  #explainer = shap.KernelExplainer(model.predict_proba, X_train, nsamples=100, link='logit')\n",
        "  explainer = shap.KernelExplainer(model.predict_proba, X_train)\n",
        "  shap_values = explainer.shap_values(X_test)\n",
        "  shap.summary_plot(shap_values, features=X_test.iloc[0,:], feature_names=columnNames)"
      ]
    },
    {
      "cell_type": "code",
      "execution_count": 78,
      "metadata": {
        "id": "nzWrQwsJy9Qx"
      },
      "outputs": [],
      "source": [
        "\n",
        "# Get the model for RandomForest Classifier\n",
        "# inputs are X and Y training values\n",
        "\n",
        "def GetRandomForestModel(X,y):\n",
        "  rf_model = RandomForestClassifier(n_estimators=50, max_features='sqrt', random_state=44)\n",
        "  #rf_model.fit(X_train, y_train)\n",
        "  rf_model.fit(X, y)\n",
        "  return rf_model"
      ]
    },
    {
      "cell_type": "code",
      "execution_count": 79,
      "metadata": {
        "id": "Q65CkH141S3l"
      },
      "outputs": [],
      "source": [
        "# Predict the values based on model\n",
        "# inputs are test values and the model\n",
        "def RandomForestPredict(x_test, model):\n",
        "  pred = model.predict(x_test)\n",
        "  return pred\n"
      ]
    },
    {
      "cell_type": "code",
      "execution_count": 80,
      "metadata": {
        "id": "8av3GKK6c15R"
      },
      "outputs": [],
      "source": [
        "# Get the model for SVM Classifier\n",
        "# inputs are X and Y training values\n",
        "def GetSVMModel(X,y):\n",
        "  #select the linear kernel\n",
        "  svm_model = svm.SVC(kernel='linear', probability=True)\n",
        "  svm_model.fit(X, y)\n",
        "  return (svm_model)"
      ]
    },
    {
      "cell_type": "code",
      "source": [
        "# Get the KNN classifier model\n",
        "def GetKNNModel(X,y):\n",
        "  neighbor = 5\n",
        "  knn_model = KNeighborsClassifier(n_neighbors=neighbor)\n",
        "  knn_model.fit(X,y)\n",
        "  return knn_model"
      ],
      "metadata": {
        "id": "kF37xujIzv2S"
      },
      "execution_count": 81,
      "outputs": []
    },
    {
      "cell_type": "code",
      "execution_count": 82,
      "metadata": {
        "id": "IPMGU54S_ZeM"
      },
      "outputs": [],
      "source": [
        "def GetFeedForwardModel():\n",
        "  model = Sequential()\n",
        "  #model.add(Flatten())\n",
        "  #model.add(Dense(256, input_shape=(X_train.shape[1],), activation=\"sigmoid\"))\n",
        "  #model.add(Dense(10, input_shape=(X_train.shape[1],), activation=\"sigmoid\"))\n",
        "  model.add(Dense(32, input_shape=(X_train.shape[1],), activation=\"relu\"))\n",
        "  model.add(Dense(16,  activation=\"relu\"))\n",
        "  model.add(Dense(1, activation=\"sigmoid\"))\n",
        "  #model.add(Dense(1, activation=\"softmax\"))\n",
        "  return model"
      ]
    },
    {
      "cell_type": "code",
      "execution_count": 83,
      "metadata": {
        "id": "kf5BgE3Dmp-7"
      },
      "outputs": [],
      "source": [
        "def GetFeedForwardModelRelu():\n",
        "  model = Sequential()\n",
        "  #model.add(Flatten())\n",
        "  model.add(Dense(256, input_shape=(X_train.shape[1],), activation=\"relu\"))\n",
        "  #model.add(Dense(128, activation=\"relu\"))\n",
        "  model.add(Dense(1, activation=\"softmax\"))\n",
        "  return model"
      ]
    },
    {
      "cell_type": "code",
      "execution_count": 84,
      "metadata": {
        "id": "Z8XeF_fvH9XF"
      },
      "outputs": [],
      "source": [
        "#XGBoost model generation\n",
        "def GetXGBoostModel():\n",
        "  # use tree method and gpu acceleration\n",
        "  #params = {'objective':'reg:squarederror','tree_method':'gpu_hist'}\n",
        "  #params = {'objective':'multi:softprob','tree_method':'gpu_hist','num_class':2}\n",
        "\n",
        "  paramsg = {'objective':'binary:logistic','tree_method':'gpu_hist','max_depth':3,'eta':0.1}\n",
        "  params = {'objective':'binary:logistic','tree_method':'hist','max_depth':3,'eta':0.1}\n",
        "  evals={(dm_train,'train'),(dm_test,'test')}\n",
        "  #set number of boost rounds\n",
        "  n=500\n",
        "  #set the early stopping rounds\n",
        "  es=50\n",
        "  #model = xgb.train (params=params, num_boost_round=n, dtrain=dm_train, early_stopping_rounds=es)\n",
        "  try:\n",
        "    model = xgb.train (params=paramsg, num_boost_round=n, dtrain=dm_train)\n",
        "  except:\n",
        "    model = xgb.train (params=params, num_boost_round=n, dtrain=dm_train)\n",
        "  return model"
      ]
    },
    {
      "cell_type": "code",
      "execution_count": 85,
      "metadata": {
        "id": "-xElO2Tdrnxf"
      },
      "outputs": [],
      "source": [
        "#XGBoost model classification\n",
        "def GetXGBoostCVModel():\n",
        "  # use tree method and gpu acceleration\n",
        "  #params = {'objective':'reg:squarederror','tree_method':'gpu_hist'}\n",
        "  #params = {'objective':'binary:logistic','tree_method':'gpu_hist','num_class':2}\n",
        "  params = {'objective':'multi:softprob','tree_method':'hist','num_class':2}\n",
        "  paramsg = {'objective':'multi:softprob','tree_method':'gpu_hist','num_class':2}\n",
        "  #set number of boost rounds\n",
        "  n=100\n",
        "  #set the early stopping rounds\n",
        "  es=50\n",
        "  #model = xgb.train (params=params, num_boost_round=n, dtrain=dm_train, early_stopping_rounds=es)\n",
        "\n",
        "  try:\n",
        "    model = xgb.cv(params=paramsg, num_boost_round=n, dtrain=dm_train, nfold=5, metrics=['mlogloss','auc','merror'])\n",
        "  except:\n",
        "    model = xgb.cv(params=params, num_boost_round=n, dtrain=dm_train, nfold=5, metrics=['mlogloss','auc','merror'])\n",
        "\n",
        "  return model"
      ]
    },
    {
      "cell_type": "code",
      "source": [
        "# print the model accuracy\n",
        "# Input: Model, X test and Y test; Output: Accuracy as a % value\n",
        "def PrintModelAccuracy(model, X_test, testY):\n",
        "  # predict results\n",
        "  pred = model.predict(X_test)\n",
        "  try:\n",
        "    #round the prediction probabilities\n",
        "    predictions = [round(value) for value in pred]\n",
        "  except:\n",
        "    pred_encode = le.fit_transform(pred)\n",
        "    predictions = [round(value) for value in pred_encode]\n",
        "  # score the accuracy\n",
        "  accuarcy = accuracy_score(testY, predictions)\n",
        "  # display as a percentage\n",
        "  print('Accuracy: %.2f%%'%(accuarcy *100.0))"
      ],
      "metadata": {
        "id": "49H0LTBnsmMs"
      },
      "execution_count": 86,
      "outputs": []
    },
    {
      "cell_type": "markdown",
      "metadata": {
        "id": "vm4h-96wEhJW"
      },
      "source": [
        "# Testing\n",
        "- keep empty when not in use"
      ]
    },
    {
      "cell_type": "code",
      "execution_count": 87,
      "metadata": {
        "colab": {
          "base_uri": "https://localhost:8080/"
        },
        "id": "okZHVsUF2C_o",
        "outputId": "c0c08699-3998-4c81-90ff-e7dba7ffb586"
      },
      "outputs": [
        {
          "output_type": "stream",
          "name": "stdout",
          "text": [
            "Importance of Feature ' TNF-α antagonists' is 0.42%\n",
            "Importance of Feature 'Anemia' is 8.27%\n",
            "Importance of Feature 'COVID-19' is 2.63%\n",
            "Importance of Feature 'Diabetes' is 3.53%\n",
            "Importance of Feature 'HIV' is 6.14%\n",
            "Importance of Feature 'Hepatic diseases' is 1.42%\n",
            "Importance of Feature 'Hepatitis B' is 2.3%\n",
            "Importance of Feature 'Hepatitis C' is 4.88%\n",
            "Importance of Feature 'None' is 7.55%\n",
            "Importance of Feature 'Not specified' is 0.36%\n",
            "Importance of Feature 'Others' is 5.8%\n",
            "Importance of Feature 'Pneumoconiosis' is 0.07%\n",
            "Importance of Feature 'Post-COVID-19' is 1.1%\n",
            "Importance of Feature 'Psychiatric illness' is 2.41%\n",
            "Importance of Feature 'Renal disease' is 1.65%\n",
            "Importance of Feature 'Systemically administered glucocorticoids' is 0.45%\n",
            "Importance of Feature 'cytostatics' is 0.44%\n",
            "Importance of Feature 'Current smoker' is 8.07%\n",
            "Importance of Feature 'Documented MDR contact' is 4.64%\n",
            "Importance of Feature 'Ex prisoner' is 7.93%\n",
            "Importance of Feature 'Homeless' is 4.18%\n",
            "Importance of Feature 'Immigrants' is 0.52%\n",
            "Importance of Feature 'Patient alcohol abuse' is 11.18%\n",
            "Importance of Feature 'Patient alcohol abuse not available/unknown' is 1.96%\n",
            "Importance of Feature 'Patient drug abuse' is 6.65%\n",
            "Importance of Feature 'Patient smoking data not available/unknown' is 0.97%\n",
            "Importance of Feature 'TB care worker' is 0.77%\n",
            "Importance of Feature 'Worked abroad' is 2.73%\n",
            "Importance of Feature 'internal migrants' is 0.48%\n",
            "Importance of Feature 'refugees' is 0.5%\n"
          ]
        },
        {
          "output_type": "stream",
          "name": "stderr",
          "text": [
            "X does not have valid feature names, but RandomForestClassifier was fitted with feature names\n"
          ]
        }
      ],
      "source": [
        "#train model and predict results; used 80/20 split for train/test\n",
        "modelrf=GetRandomForestModel(X,y)\n",
        "predictions = RandomForestPredict(X_test, modelrf)\n",
        "#display(pd.DataFrame(predictions))\n",
        "#print('Y TEST')\n",
        "#display(y_test)\n",
        "importances = modelrf.feature_importances_\n",
        "columns = X.columns\n",
        "i=0\n",
        "#display contributions of each feature in the prediction; Similar results as Awanti's paper though I get\n",
        "# Anemia, HIV and Diabetes (ignoring None/Other) as opposed to Anemia, HIV, Hepatitis in Awanti's paper\n",
        "while (i<len(columns)):\n",
        "  print (f\"Importance of Feature '{columns[i]}' is {round(importances[i]*100,2)}%\")\n",
        "  i+=1"
      ]
    },
    {
      "cell_type": "code",
      "source": [
        "PrintModelAccuracy(modelrf, X_test, testY)"
      ],
      "metadata": {
        "colab": {
          "base_uri": "https://localhost:8080/"
        },
        "id": "YZtXCGF5uAEz",
        "outputId": "04992c39-1a00-4267-b0c4-8f04c3bae685"
      },
      "execution_count": 88,
      "outputs": [
        {
          "output_type": "stream",
          "name": "stdout",
          "text": [
            "Accuracy: 80.73%\n"
          ]
        },
        {
          "output_type": "stream",
          "name": "stderr",
          "text": [
            "X does not have valid feature names, but RandomForestClassifier was fitted with feature names\n"
          ]
        }
      ]
    },
    {
      "cell_type": "code",
      "execution_count": null,
      "metadata": {
        "id": "AhpdOxlLBrKm"
      },
      "outputs": [],
      "source": [
        "TreeExplainer(X_train,X.columns, modelrf)"
      ]
    },
    {
      "cell_type": "code",
      "execution_count": 36,
      "metadata": {
        "id": "6W783JavfMwG"
      },
      "outputs": [],
      "source": [
        "model_svm =GetSVMModel(X_train, trainY)"
      ]
    },
    {
      "cell_type": "code",
      "execution_count": 40,
      "metadata": {
        "id": "XdSmM-kwgc9b"
      },
      "outputs": [],
      "source": [
        "#KernelExplainer(X_train,X_test, X.columns, model_svm)"
      ]
    },
    {
      "cell_type": "code",
      "source": [
        "PrintModelAccuracy(model_svm, X_test, testY)"
      ],
      "metadata": {
        "colab": {
          "base_uri": "https://localhost:8080/"
        },
        "id": "BhamQEtHtw3I",
        "outputId": "cf33dd1f-66c3-4cea-c106-91dcad70c4a1"
      },
      "execution_count": 37,
      "outputs": [
        {
          "output_type": "stream",
          "name": "stdout",
          "text": [
            "Accuracy: 80.61%\n"
          ]
        }
      ]
    },
    {
      "cell_type": "code",
      "source": [
        "model_knn = GetKNNModel(X_train,trainY)"
      ],
      "metadata": {
        "id": "T-ULLVhp2AEa"
      },
      "execution_count": 38,
      "outputs": []
    },
    {
      "cell_type": "code",
      "source": [
        "PrintModelAccuracy(model_knn, X_test, testY)"
      ],
      "metadata": {
        "colab": {
          "base_uri": "https://localhost:8080/"
        },
        "id": "122x-WVJ2LJq",
        "outputId": "265ac8bb-6af9-4730-dbea-ad4e6f871329"
      },
      "execution_count": 39,
      "outputs": [
        {
          "output_type": "stream",
          "name": "stdout",
          "text": [
            "Accuracy: 74.28%\n"
          ]
        }
      ]
    },
    {
      "cell_type": "code",
      "source": [
        "#TreeExplainer(X_train,X.columns, model_knn)\n",
        "KernelExplainer(X_train,X_test, X.columns, model_knn)"
      ],
      "metadata": {
        "id": "noTft0Ya3-CU"
      },
      "execution_count": null,
      "outputs": []
    },
    {
      "cell_type": "code",
      "source": [
        "ROCCurve(testY, X_test, model_knn)"
      ],
      "metadata": {
        "colab": {
          "base_uri": "https://localhost:8080/",
          "height": 542
        },
        "id": "gFD0wPx23eNB",
        "outputId": "ab238785-fceb-49d5-e2c1-604163c7b545"
      },
      "execution_count": 40,
      "outputs": [
        {
          "output_type": "display_data",
          "data": {
            "text/plain": [
              "<Figure size 900x600 with 1 Axes>"
            ],
            "image/png": "[encoded data removed]"
          },
          "metadata": {}
        }
      ]
    },
    {
      "cell_type": "code",
      "execution_count": null,
      "metadata": {
        "id": "D2KvG7oYGGGp"
      },
      "outputs": [],
      "source": [
        "checkpoint = ModelCheckpoint(filepath=\"/content/drive/MyDrive/Rohit Work/fnn_model_sgd\", monitor='accuracy', verbose=1, save_best_only=True, save_weights_only=False, mode='auto')\n",
        "early = EarlyStopping(monitor='accuracy', min_delta=0, patience=20, verbose=1, mode='auto')"
      ]
    },
    {
      "cell_type": "code",
      "execution_count": 55,
      "metadata": {
        "id": "WGTsBMY3EDQy",
        "colab": {
          "base_uri": "https://localhost:8080/"
        },
        "outputId": "51408f4f-f7c4-47a3-bb7d-9e764081f3f2"
      },
      "outputs": [
        {
          "output_type": "stream",
          "name": "stdout",
          "text": [
            "Model: \"sequential\"\n",
            "_________________________________________________________________\n",
            " Layer (type)                Output Shape              Param #   \n",
            "=================================================================\n",
            " dense (Dense)               (None, 32)                448       \n",
            "                                                                 \n",
            " dense_1 (Dense)             (None, 16)                528       \n",
            "                                                                 \n",
            " dense_2 (Dense)             (None, 1)                 17        \n",
            "                                                                 \n",
            "=================================================================\n",
            "Total params: 993\n",
            "Trainable params: 993\n",
            "Non-trainable params: 0\n",
            "_________________________________________________________________\n",
            "Model: \"sequential_1\"\n",
            "_________________________________________________________________\n",
            " Layer (type)                Output Shape              Param #   \n",
            "=================================================================\n",
            " dense_3 (Dense)             (None, 256)               3584      \n",
            "                                                                 \n",
            " dense_4 (Dense)             (None, 1)                 257       \n",
            "                                                                 \n",
            "=================================================================\n",
            "Total params: 3,841\n",
            "Trainable params: 3,841\n",
            "Non-trainable params: 0\n",
            "_________________________________________________________________\n",
            "Model: \"sequential_2\"\n",
            "_________________________________________________________________\n",
            " Layer (type)                Output Shape              Param #   \n",
            "=================================================================\n",
            " dense_5 (Dense)             (None, 256)               3584      \n",
            "                                                                 \n",
            " dense_6 (Dense)             (None, 1)                 257       \n",
            "                                                                 \n",
            "=================================================================\n",
            "Total params: 3,841\n",
            "Trainable params: 3,841\n",
            "Non-trainable params: 0\n",
            "_________________________________________________________________\n"
          ]
        }
      ],
      "source": [
        "\n",
        "sgd = SGD(0.1)\n",
        "model=GetFeedForwardModel()\n",
        "model.compile(loss=\"binary_crossentropy\", optimizer=sgd, metrics=[\"accuracy\"] )\n",
        "modelrelu=GetFeedForwardModelRelu()\n",
        "modelrelu.compile(loss=\"binary_crossentropy\", optimizer=sgd, metrics=[\"accuracy\"])\n",
        "modelreluadam = GetFeedForwardModelRelu()\n",
        "modelreluadam.compile(loss=\"binary_crossentropy\", optimizer=Adam(learning_rate=0.01), metrics=[\"accuracy\"])\n",
        "model.summary()\n",
        "modelrelu.summary()\n",
        "modelreluadam.summary()\n"
      ]
    },
    {
      "cell_type": "code",
      "execution_count": 56,
      "metadata": {
        "id": "DDHtHNZQGqOi",
        "colab": {
          "base_uri": "https://localhost:8080/"
        },
        "outputId": "141f9599-1f5d-4149-9a8c-0225ec4e18a4"
      },
      "outputs": [
        {
          "output_type": "stream",
          "name": "stdout",
          "text": [
            "Epoch 1/10\n",
            "419/419 [==============================] - 2s 2ms/step - loss: 0.4977 - accuracy: 0.7993\n",
            "Epoch 2/10\n",
            "419/419 [==============================] - 1s 2ms/step - loss: 0.4911 - accuracy: 0.8037\n",
            "Epoch 3/10\n",
            "419/419 [==============================] - 1s 2ms/step - loss: 0.4901 - accuracy: 0.8037\n",
            "Epoch 4/10\n",
            "419/419 [==============================] - 1s 2ms/step - loss: 0.4895 - accuracy: 0.8037\n",
            "Epoch 5/10\n",
            "419/419 [==============================] - 1s 2ms/step - loss: 0.4889 - accuracy: 0.8037\n",
            "Epoch 6/10\n",
            "419/419 [==============================] - 1s 2ms/step - loss: 0.4893 - accuracy: 0.8037\n",
            "Epoch 7/10\n",
            "419/419 [==============================] - 1s 2ms/step - loss: 0.4888 - accuracy: 0.8037\n",
            "Epoch 8/10\n",
            "419/419 [==============================] - 1s 2ms/step - loss: 0.4883 - accuracy: 0.8037\n",
            "Epoch 9/10\n",
            "419/419 [==============================] - 1s 2ms/step - loss: 0.4874 - accuracy: 0.8037\n",
            "Epoch 10/10\n",
            "419/419 [==============================] - 1s 2ms/step - loss: 0.4875 - accuracy: 0.8037\n"
          ]
        }
      ],
      "source": [
        "#hist = model.fit(X_train, trainY, validation_data=(X_test, testY), epochs=20,batch_size=64,callbacks=[checkpoint, early])\n",
        "hist = model.fit(X_train, trainY, epochs=10,batch_size=16)"
      ]
    },
    {
      "cell_type": "code",
      "execution_count": null,
      "metadata": {
        "id": "3XsaaZWMnTBY"
      },
      "outputs": [],
      "source": [
        "histrelu = modelrelu.fit(X_train, trainY, validation_data=(X_test, testY), epochs=20,batch_size=10)"
      ]
    },
    {
      "cell_type": "code",
      "execution_count": null,
      "metadata": {
        "id": "u4ws4c5CwgZ5"
      },
      "outputs": [],
      "source": [
        "histreluadam = modelreluadam.fit(X_train, trainY, validation_data=(X_test, testY), epochs=20,batch_size=10)"
      ]
    },
    {
      "cell_type": "code",
      "execution_count": null,
      "metadata": {
        "id": "MDqqu185QQ7K"
      },
      "outputs": [],
      "source": [
        "plt.plot(hist.history[\"accuracy\"])\n",
        "plt.plot(hist.history['val_accuracy'])\n",
        "plt.plot(hist.history['loss'])\n",
        "plt.plot(hist.history['val_loss'])\n",
        "plt.title(\"model accuracy\")\n",
        "plt.ylabel(\"Accuracy\")\n",
        "plt.xlabel(\"Epoch\")\n",
        "plt.legend([\"Accuracy\",\"Val Acc\", \"loss\", \"Val Loss\"])\n",
        "plt.show()"
      ]
    },
    {
      "cell_type": "code",
      "execution_count": 58,
      "metadata": {
        "colab": {
          "base_uri": "https://localhost:8080/",
          "height": 499
        },
        "id": "_c74mJ4T0QpD",
        "outputId": "c3b35b7e-18d6-42c0-8649-92385bc1db37"
      },
      "outputs": [
        {
          "output_type": "stream",
          "name": "stdout",
          "text": [
            "210/210 [==============================] - 1s 2ms/step - loss: 0.4877 - accuracy: 0.8037\n",
            "53/53 [==============================] - 0s 2ms/step - loss: 0.4832 - accuracy: 0.8061\n",
            "Training accuracy: 0.8037313222885132\n",
            "Testing accuracy: 0.8060859441757202\n"
          ]
        },
        {
          "output_type": "display_data",
          "data": {
            "text/plain": [
              "<Figure size 640x480 with 1 Axes>"
            ],
            "image/png": "[encoded data removed]"
          },
          "metadata": {}
        }
      ],
      "source": [
        "train_acc = model.evaluate(X_train, trainY, batch_size=32)[1]\n",
        "test_acc = model.evaluate(X_test, testY, batch_size=32)[1]\n",
        "print('Training accuracy: %s' % train_acc)\n",
        "print('Testing accuracy: %s' % test_acc)\n",
        "\n",
        "losses = hist.history['loss']\n",
        "plt.plot(range(len(losses)), losses, 'r')\n",
        "plt.show()"
      ]
    },
    {
      "cell_type": "code",
      "execution_count": 59,
      "metadata": {
        "id": "zuymT0OjQfBe",
        "colab": {
          "base_uri": "https://localhost:8080/"
        },
        "outputId": "c0cfd396-2f9c-4443-f765-9ae126eaae7d"
      },
      "outputs": [
        {
          "output_type": "stream",
          "name": "stdout",
          "text": [
            "53/53 [==============================] - 0s 1ms/step\n",
            "53/53 [==============================] - 0s 1ms/step\n",
            "53/53 [==============================] - 0s 1ms/step\n",
            "1 [0.80983526] [0.99999994] [0.99999994]\n",
            "0 [0.7183195] [0.99999994] [0.99999994]\n",
            "1 [0.80983526] [0.99999994] [0.99999994]\n",
            "1 [0.7183195] [0.99999994] [0.99999994]\n",
            "1 [0.83879334] [0.99999994] [0.99999994]\n",
            "1 [0.8112857] [0.99999994] [0.99999994]\n",
            "1 [0.80983526] [0.99999994] [0.99999994]\n",
            "0 [0.80983526] [0.99999994] [0.99999994]\n",
            "1 [0.80983526] [0.99999994] [0.99999994]\n",
            "0 [0.74342227] [0.99999994] [0.99999994]\n"
          ]
        }
      ],
      "source": [
        "#ModelMetrics(X_test, testY, model)\n",
        "\n",
        "#predsigmoid = (model.predict(X_test)>0.5).astype(int)\n",
        "#predrelu=(modelrelu.predict(X_test)>0.5).astype(int)\n",
        "#modelsigmoid = load_model('/content/drive/MyDrive/Rohit Work/fnn_model')\n",
        "#predsigmoid = modelsigmoid.predict(X_test)\n",
        "predsigmoid = model.predict(X_test)\n",
        "predrelu = modelrelu.predict(X_test)\n",
        "predreluadam = modelreluadam.predict(X_test)\n",
        "\n",
        "for i in range (10):\n",
        "  print(testY[i],predsigmoid[i],predrelu[i], predreluadam[i])\n"
      ]
    },
    {
      "cell_type": "code",
      "execution_count": 45,
      "metadata": {
        "colab": {
          "base_uri": "https://localhost:8080/"
        },
        "id": "uczh1b3ZsbQ4",
        "outputId": "2339f1f6-330a-4aa3-aa2e-4e5605782aa9"
      },
      "outputs": [
        {
          "output_type": "stream",
          "name": "stdout",
          "text": [
            "[19:51:11] WARNING: ../src/learner.cc:339: No visible GPU is found, setting `gpu_id` to -1\n"
          ]
        }
      ],
      "source": [
        "modelnativepred = GetXGBoostModel()"
      ]
    },
    {
      "cell_type": "code",
      "source": [
        "PrintModelAccuracy(modelnativepred, dm_test, testY)"
      ],
      "metadata": {
        "colab": {
          "base_uri": "https://localhost:8080/"
        },
        "id": "A4i-0avevf7P",
        "outputId": "1c357b46-513a-416f-f74e-1a2ab3f9ca2b"
      },
      "execution_count": 46,
      "outputs": [
        {
          "output_type": "stream",
          "name": "stdout",
          "text": [
            "Accuracy: 80.61%\n"
          ]
        }
      ]
    },
    {
      "cell_type": "code",
      "execution_count": 52,
      "metadata": {
        "colab": {
          "base_uri": "https://localhost:8080/"
        },
        "id": "W_3LwghJoQ7E",
        "outputId": "c47767fd-dff9-48aa-9ae1-dacb4dc5cd0c"
      },
      "outputs": [
        {
          "output_type": "stream",
          "name": "stdout",
          "text": [
            "[19:57:24] WARNING: ../src/learner.cc:339: No visible GPU is found, setting `gpu_id` to -1\n",
            "0.6105032435122209\n"
          ]
        }
      ],
      "source": [
        "#Predictions using native XGBoost\n",
        "modelnativecv = GetXGBoostCVModel()\n",
        "print(modelnativecv['test-auc-mean'].max())"
      ]
    },
    {
      "cell_type": "code",
      "execution_count": null,
      "metadata": {
        "id": "4WykbiJyt_O_"
      },
      "outputs": [],
      "source": [
        "#predictions using sklearn XGBoost\n",
        "try:\n",
        "  x_class = xgb.XGBClassifier(n_estimators=500,\n",
        "                              objective='binary:logistic',\n",
        "                              tree_method='gpu_hist',\n",
        "                              eta=0.1,\n",
        "                              max_depth=3)\n",
        "except:\n",
        "  x_class = xgb.XGBClassifier(n_estimators=500,\n",
        "                              objective='binary:logistic',\n",
        "                              tree_method='hist',\n",
        "                              eta=0.1,\n",
        "                              max_depth=3)\n",
        "x_class.fit(X_train, trainY)\n",
        "modelsc = x_class.get_booster()"
      ]
    },
    {
      "cell_type": "code",
      "source": [
        "PrintModelAccuracy(modelsc, dm_test, testY)"
      ],
      "metadata": {
        "colab": {
          "base_uri": "https://localhost:8080/"
        },
        "id": "QhGSrJ3ywck2",
        "outputId": "75b6b86a-4a00-43fa-ef87-f9903b30780d"
      },
      "execution_count": 39,
      "outputs": [
        {
          "output_type": "stream",
          "name": "stdout",
          "text": [
            "Accuracy: 79.95%\n"
          ]
        }
      ]
    },
    {
      "cell_type": "code",
      "execution_count": 37,
      "metadata": {
        "colab": {
          "base_uri": "https://localhost:8080/",
          "height": 854
        },
        "id": "texIa0ij_l3s",
        "outputId": "750782d5-94a4-480b-b496-3535d0ccc340"
      },
      "outputs": [
        {
          "output_type": "stream",
          "name": "stderr",
          "text": [
            "No data for colormapping provided via 'c'. Parameters 'vmin', 'vmax' will be ignored\n"
          ]
        },
        {
          "output_type": "display_data",
          "data": {
            "text/plain": [
              "<Figure size 800x830 with 2 Axes>"
            ],
            "image/png": "[encoded data removed]"
          },
          "metadata": {}
        }
      ],
      "source": [
        "#display(X.columns)\n",
        "TreeExplainer(X_test,X.columns, modelsc)"
      ]
    }
  ],
  "metadata": {
    "accelerator": "GPU",
    "colab": {
      "collapsed_sections": [
        "kc0LDKDrDzdb",
        "f7dbbo0D8eBA",
        "PH12pzYB8hfb"
      ],
      "provenance": [],
      "gpuType": "T4",
      "include_colab_link": true
    },
    "kernelspec": {
      "display_name": "Python 3",
      "name": "python3"
    },
    "language_info": {
      "name": "python"
    }
  },
  "nbformat": 4,
  "nbformat_minor": 0
}